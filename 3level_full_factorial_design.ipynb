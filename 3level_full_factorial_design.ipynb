{
 "cells": [
  {
   "cell_type": "code",
   "execution_count": 6,
   "id": "f41c7df2",
   "metadata": {},
   "outputs": [
    {
     "name": "stdout",
     "output_type": "stream",
     "text": [
      "Results have been saved to r0_three_level.csv\n"
     ]
    },
    {
     "name": "stderr",
     "output_type": "stream",
     "text": [
      "C:\\Users\\14185\\AppData\\Local\\Temp\\ipykernel_13692\\3407481469.py:67: SettingWithCopyWarning: \n",
      "A value is trying to be set on a copy of a slice from a DataFrame.\n",
      "Try using .loc[row_indexer,col_indexer] = value instead\n",
      "\n",
      "See the caveats in the documentation: https://pandas.pydata.org/pandas-docs/stable/user_guide/indexing.html#returning-a-view-versus-a-copy\n",
      "  df_cleaned['Vertical Displacement (mm)'] = df_cleaned.apply(compute_vertical_displacement, axis=1)\n"
     ]
    }
   ],
   "source": [
    "import numpy as np\n",
    "import pandas as pd\n",
    "import matplotlib.pyplot as plt\n",
    "from scipy.integrate import quad\n",
    "from scipy.special import j0, j1\n",
    "\n",
    "\n",
    "\n",
    "factor_levels = {\n",
    "    'Pressure': [0.02, 3.51, 7],\n",
    "    'Youngs modulus': [2.1, 13.55, 25],\n",
    "    'Poisson ratio': [0.2, 0.255, 0.31],\n",
    "    'Depth': [800, 2025, 3250],\n",
    "    'Radius': [400, 2750, 5100],\n",
    "    'Thickness': [20, 348, 676]\n",
    "}\n",
    "\n",
    "\n",
    "file_path = 'Threelevels_DOE.xlsx'\n",
    "df = pd.read_excel(file_path, 'Sheet1')\n",
    "\n",
    "\n",
    "df_cleaned = df[['Pressure', 'Youngs modulus', 'Poisson ratio', 'Depth', 'Radius', 'Thickness']]\n",
    "\n",
    "\n",
    "alpha_B = 1 \n",
    "\n",
    "\n",
    "def get_factor_value(factor, level):\n",
    "    return factor_levels[factor][level - 1]\n",
    "\n",
    "\n",
    "def integrand(alpha, r, d, R):\n",
    "    return np.exp(-alpha * d) * j1(alpha * R) * j0(alpha * r)\n",
    "\n",
    "\n",
    "def uz_formula_corrected(r, Cm, h, dp_res, v, R, d):\n",
    "    integral_value, _ = quad(integrand, 0, np.inf, args=(r, d, R), epsabs=1e-10, epsrel=1e-10)\n",
    "    uz = 2 * Cm * (1 - v) * h * dp_res * R * integral_value\n",
    "    return uz * 1000  \n",
    "\n",
    "\n",
    "def compute_vertical_displacement(row):\n",
    "\n",
    "    pressure_level = row['Pressure']\n",
    "    youngs_modulus_level = row['Youngs modulus']\n",
    "    poisson_ratio_level = row['Poisson ratio']\n",
    "    depth_level = row['Depth']\n",
    "    radius_level = row['Radius']\n",
    "    thickness_level = row['Thickness']\n",
    "    \n",
    "\n",
    "    pressure = get_factor_value('Pressure', pressure_level) * 1e6  \n",
    "    youngs_modulus = get_factor_value('Youngs modulus', youngs_modulus_level) * 1e9 \n",
    "    poisson_ratio = get_factor_value('Poisson ratio', poisson_ratio_level)\n",
    "    depth = get_factor_value('Depth', depth_level)\n",
    "    radius = get_factor_value('Radius', radius_level)\n",
    "    thickness = get_factor_value('Thickness', thickness_level)\n",
    "    \n",
    "    Cm = alpha_B * ((1 + poisson_ratio) * (1 - 2 * poisson_ratio)) / ((1 - poisson_ratio) * youngs_modulus)\n",
    "    \n",
    "\n",
    "    uz = uz_formula_corrected(0, Cm, thickness, pressure, poisson_ratio, radius, depth)  \n",
    "    return uz\n",
    "\n",
    "\n",
    "df_cleaned['Vertical Displacement (mm)'] = df_cleaned.apply(compute_vertical_displacement, axis=1)\n",
    "\n",
    "\n",
    "output_file = 'r0_three_level.csv'\n",
    "df_cleaned.to_csv(output_file, index=False)\n",
    "\n",
    "print(f\"Results have been saved to {output_file}\")\n"
   ]
  }
 ],
 "metadata": {
  "kernelspec": {
   "display_name": "Python 3 (ipykernel)",
   "language": "python",
   "name": "python3"
  },
  "language_info": {
   "codemirror_mode": {
    "name": "ipython",
    "version": 3
   },
   "file_extension": ".py",
   "mimetype": "text/x-python",
   "name": "python",
   "nbconvert_exporter": "python",
   "pygments_lexer": "ipython3",
   "version": "3.9.16"
  }
 },
 "nbformat": 4,
 "nbformat_minor": 5
}
